{
  "nbformat": 4,
  "nbformat_minor": 0,
  "metadata": {
    "colab": {
      "provenance": []
    },
    "kernelspec": {
      "name": "python3",
      "display_name": "Python 3"
    },
    "language_info": {
      "name": "python"
    }
  },
  "cells": [
    {
      "cell_type": "markdown",
      "source": [
        "# CHAT GPT INTRO"
      ],
      "metadata": {
        "id": "zJBG8PMj1aLI"
      }
    },
    {
      "cell_type": "markdown",
      "source": [
        "1. What is Chat GPT?\n",
        "    ->  ChatGPT is an advanced AI language model developed by OpenAI. It is based on the GPT (Generative Pre-trained Transformer) architecture, which allows it to understand and generate human-like text. It can engage in conversations, answer questions, write content, assist with coding, and more.\n",
        "       -> How Does ChatGPT Work?\n",
        "Pre-training:\n",
        "\n",
        "The model is trained on a massive dataset from the internet, including books, articles, and websites.\n",
        "\n",
        "This helps it learn grammar, facts, and general world knowledge.\n",
        "\n",
        "Fine-tuning:\n",
        "\n",
        "OpenAI fine-tunes the model using reinforcement learning and feedback from human reviewers.\n",
        "\n",
        "This makes responses more accurate, safer, and aligned with human preferences.\n",
        "\n",
        "User Input & Response:\n",
        "\n",
        "When you enter a query, ChatGPT processes the text, predicts the most relevant response, and generates a reply in real-time.\n",
        "\n",
        "Versions of ChatGPT\n",
        "GPT-3.5\n",
        "\n",
        "Faster and efficient for general tasks.\n",
        "\n",
        "Good for casual conversations and basic queries.\n",
        "\n",
        "GPT-4\n",
        "\n",
        "More powerful, accurate, and capable of handling complex reasoning.\n",
        "\n",
        "Better at creative writing, coding, and understanding nuanced topics.\n",
        "\n",
        "What Can ChatGPT Do?\n",
        "✅ Answer questions on various topics (science, history, tech, etc.)\n",
        "✅ Generate creative content (stories, poems, scripts, etc.)\n",
        "✅ Assist with coding (debugging, writing scripts, etc.)\n",
        "✅ Translate languages\n",
        "✅ Summarize documents\n",
        "✅ Provide study help & explanations\n",
        "✅ Offer career advice, brainstorming ideas, and more!\n",
        "\n",
        "\n",
        "\n",
        "\n",
        "\n",
        "\n",
        "\n",
        "\n",
        "\n",
        "\n",
        "  "
      ],
      "metadata": {
        "id": "2vlLjEyC1kS4"
      }
    },
    {
      "cell_type": "code",
      "source": [],
      "metadata": {
        "id": "9LfOlyfR1gu1"
      },
      "execution_count": null,
      "outputs": []
    }
  ]
}